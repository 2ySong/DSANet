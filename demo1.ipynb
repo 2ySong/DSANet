{
 "cells": [
  {
   "cell_type": "code",
   "execution_count": 9,
   "metadata": {},
   "outputs": [
    {
     "name": "stderr",
     "output_type": "stream",
     "text": [
      "GPU available: True (cuda), used: True\n",
      "TPU available: False, using: 0 TPU cores\n",
      "HPU available: False, using: 0 HPUs\n",
      "LOCAL_RANK: 0 - CUDA_VISIBLE_DEVICES: [0]\n",
      "\n",
      "  | Name        | Type                          | Params | Mode \n",
      "----------------------------------------------------------------------\n",
      "0 | sgsf        | Single_Global_SelfAttn_Module | 18.9 M | train\n",
      "1 | slsf        | Single_Local_SelfAttn_Module  | 18.9 M | train\n",
      "2 | ar          | AR                            | 65     | train\n",
      "3 | W_output1   | Linear                        | 65     | train\n",
      "4 | dropout     | Dropout                       | 0      | train\n",
      "5 | active_func | Tanh                          | 0      | train\n",
      "----------------------------------------------------------------------\n",
      "37.9 M    Trainable params\n",
      "0         Non-trainable params\n",
      "37.9 M    Total params\n",
      "151.590   Total estimated model params size (MB)\n"
     ]
    },
    {
     "data": {
      "application/vnd.jupyter.widget-view+json": {
       "model_id": "6a7ab306842a4e0290db85fd92da5927",
       "version_major": 2,
       "version_minor": 0
      },
      "text/plain": [
       "Sanity Checking: |          | 0/? [00:00<?, ?it/s]"
      ]
     },
     "metadata": {},
     "output_type": "display_data"
    },
    {
     "data": {
      "application/vnd.jupyter.widget-view+json": {
       "model_id": "9bc99e069e004636b1fb6cd53b712875",
       "version_major": 2,
       "version_minor": 0
      },
      "text/plain": [
       "Training: |          | 0/? [00:00<?, ?it/s]"
      ]
     },
     "metadata": {},
     "output_type": "display_data"
    },
    {
     "data": {
      "application/vnd.jupyter.widget-view+json": {
       "model_id": "1b4d548e511746d3863d2f6c56bc31ec",
       "version_major": 2,
       "version_minor": 0
      },
      "text/plain": [
       "Validation: |          | 0/? [00:00<?, ?it/s]"
      ]
     },
     "metadata": {},
     "output_type": "display_data"
    },
    {
     "data": {
      "application/vnd.jupyter.widget-view+json": {
       "model_id": "d42479e0ce224a78a130a15b559511b5",
       "version_major": 2,
       "version_minor": 0
      },
      "text/plain": [
       "Validation: |          | 0/? [00:00<?, ?it/s]"
      ]
     },
     "metadata": {},
     "output_type": "display_data"
    },
    {
     "data": {
      "application/vnd.jupyter.widget-view+json": {
       "model_id": "72d77c6f43d74954988ca0eefde4a40a",
       "version_major": 2,
       "version_minor": 0
      },
      "text/plain": [
       "Validation: |          | 0/? [00:00<?, ?it/s]"
      ]
     },
     "metadata": {},
     "output_type": "display_data"
    },
    {
     "data": {
      "application/vnd.jupyter.widget-view+json": {
       "model_id": "e476c34bdb0b40e79e46aa40ebfe34de",
       "version_major": 2,
       "version_minor": 0
      },
      "text/plain": [
       "Validation: |          | 0/? [00:00<?, ?it/s]"
      ]
     },
     "metadata": {},
     "output_type": "display_data"
    }
   ],
   "source": [
    "import os\n",
    "import numpy as np\n",
    "import torch\n",
    "\n",
    "\n",
    "from lightning.pytorch.trainer import Trainer\n",
    "from lightning.pytorch.callbacks import EarlyStopping, ModelCheckpoint\n",
    "from lightning.pytorch.loggers import TensorBoardLogger\n",
    "\n",
    "from dsanet_model import DSANet\n",
    "from dsanet_model import add_model_config\n",
    "from data import MTSFDataset\n",
    "from torch.utils.data import DataLoader\n",
    "from lightning.pytorch.callbacks.early_stopping import EarlyStopping\n",
    "import warnings\n",
    "\n",
    "warnings.filterwarnings(\"ignore\")\n",
    "\n",
    "SEED = 7\n",
    "torch.manual_seed(SEED)\n",
    "torch.cuda.manual_seed_all(SEED)\n",
    "np.random.seed(SEED)\n",
    "\n",
    "root_dir = \"/root/myDL/DSANet\"\n",
    "log_dir = os.path.join(root_dir, \"dsanet_logs\")\n",
    "\n",
    "config = add_model_config(root_dir)\n",
    "\n",
    "model = DSANet(config)\n",
    "# print(model)\n",
    "tb_logger = TensorBoardLogger(name=\"electricity\", save_dir=config[\"log_dir\"], version=2)\n",
    "early_stop_callback = EarlyStopping(monitor=\"val_loss\", min_delta=0.001, patience=3, verbose=False, mode=\"max\")\n",
    "\n",
    "\n",
    "trainer = Trainer(\n",
    "    devices=1,\n",
    "    logger=tb_logger,\n",
    "    max_epochs=20,\n",
    "    callbacks=[early_stop_callback]\n",
    ")\n",
    "\n",
    "trainer.fit(model)\n"
   ]
  },
  {
   "cell_type": "code",
   "execution_count": 4,
   "metadata": {},
   "outputs": [
    {
     "name": "stderr",
     "output_type": "stream",
     "text": [
      "Restoring states from the checkpoint path at /root/myDL/DSANet/lightning_logs/electricity/version_1/checkpoints/epoch=19-step=8560.ckpt\n",
      "LOCAL_RANK: 0 - CUDA_VISIBLE_DEVICES: [0]\n",
      "Loaded model weights from the checkpoint at /root/myDL/DSANet/lightning_logs/electricity/version_1/checkpoints/epoch=19-step=8560.ckpt\n"
     ]
    },
    {
     "data": {
      "application/vnd.jupyter.widget-view+json": {
       "model_id": "ed81330a064d4ea1b4144898cd906ddd",
       "version_major": 2,
       "version_minor": 0
      },
      "text/plain": [
       "Testing: |          | 0/? [00:00<?, ?it/s]"
      ]
     },
     "metadata": {},
     "output_type": "display_data"
    },
    {
     "name": "stdout",
     "output_type": "stream",
     "text": [
      "────────────────────────────────────────────────────────────────────────────────────────────────────────────────────────\n",
      "       Test metric             DataLoader 0\n",
      "────────────────────────────────────────────────────────────────────────────────────────────────────────────────────────\n",
      "          CORR                      nan\n",
      "          NMSE             0.025881389155983925\n",
      "          RRSE              0.11289846152067184\n",
      "        test_loss                1183922.0\n",
      "     test_loss_epoch            1184752.75\n",
      "────────────────────────────────────────────────────────────────────────────────────────────────────────────────────────\n"
     ]
    },
    {
     "data": {
      "text/plain": [
       "[{'test_loss_epoch': 1184752.75,\n",
       "  'test_loss': 1183922.0,\n",
       "  'RRSE': 0.11289846152067184,\n",
       "  'CORR': nan,\n",
       "  'NMSE': 0.025881389155983925}]"
      ]
     },
     "execution_count": 4,
     "metadata": {},
     "output_type": "execute_result"
    }
   ],
   "source": [
    "trainer.test()"
   ]
  },
  {
   "cell_type": "code",
   "execution_count": 8,
   "metadata": {},
   "outputs": [],
   "source": [
    "trainer.early_stopping_callback"
   ]
  },
  {
   "cell_type": "code",
   "execution_count": null,
   "metadata": {},
   "outputs": [],
   "source": [
    "# 加载继续训练\n",
    "import lightning.pytorch as pl\n",
    "\n",
    "csv_logger = pl.loggers.CSVLogger(save_dir=\"lightning_logs/csi\", name=\"version_0\")\n",
    "trainer = pl.Trainer(\n",
    "    logger = csv_logger,\n",
    "    callbacks=[pl.callbacks.ModelCheckpoint(every_n_train_steps=60, save_top_k=-1)],\n",
    ")\n",
    "\n",
    "model = DSANet(config)\n",
    "ckp1 = \"lightning_logs/csi/version_3/checkpoints/epoch=19-step=4280.ckpt\"\n",
    "ckp2 = \"lightning_logs/csi/version_4/checkpoints/epoch=39-step=8560.ckpt\"\n",
    "ckp3 = 'lightning_logs/csi/version_0/checkpoints/epoch=4-step=1070.ckpt'\n",
    "trainer.test(\n",
    "    model=model,\n",
    "    ckpt_path=ckp3,\n",
    ")"
   ]
  },
  {
   "cell_type": "code",
   "execution_count": null,
   "metadata": {},
   "outputs": [],
   "source": []
  },
  {
   "cell_type": "code",
   "execution_count": null,
   "metadata": {},
   "outputs": [],
   "source": [
    "PATH = \"lightning_logs/csi/version_4/checkpoints/epoch=39-step=8560.ckpt\"\n",
    "model = DSANet.load_from_checkpoint(PATH, config=config)\n",
    "\n",
    "print(model.config[\"learning_rate\"])\n",
    "model.eval()\n",
    "device = \"cuda\" if torch.cuda.is_available() else \"cpu\"\n",
    "x = torch.randn(1,64, 32).to(device)\n",
    "with torch.no_grad():\n",
    "    y_hat = model(x)\n",
    "print(y_hat)"
   ]
  },
  {
   "cell_type": "code",
   "execution_count": null,
   "metadata": {},
   "outputs": [],
   "source": [
    "x.shape"
   ]
  },
  {
   "cell_type": "code",
   "execution_count": null,
   "metadata": {},
   "outputs": [],
   "source": [
    "trainer = pl.Trainer(\n",
    "    callbacks=[pl.callbacks.ModelCheckpoint(every_n_train_steps=60, save_top_k=-1)],\n",
    ")\n",
    "\n",
    "model = DSANet(config)\n"
   ]
  },
  {
   "cell_type": "code",
   "execution_count": null,
   "metadata": {},
   "outputs": [],
   "source": []
  },
  {
   "cell_type": "code",
   "execution_count": null,
   "metadata": {},
   "outputs": [],
   "source": [
    "import tensorboardX"
   ]
  }
 ],
 "metadata": {
  "kernelspec": {
   "display_name": "py311",
   "language": "python",
   "name": "python3"
  },
  "language_info": {
   "codemirror_mode": {
    "name": "ipython",
    "version": 3
   },
   "file_extension": ".py",
   "mimetype": "text/x-python",
   "name": "python",
   "nbconvert_exporter": "python",
   "pygments_lexer": "ipython3",
   "version": "3.10.8"
  }
 },
 "nbformat": 4,
 "nbformat_minor": 2
}
