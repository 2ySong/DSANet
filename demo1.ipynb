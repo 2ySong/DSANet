{
 "cells": [
  {
   "cell_type": "code",
   "execution_count": 5,
   "metadata": {},
   "outputs": [
    {
     "data": {
      "text/plain": [
       "(100, 321)"
      ]
     },
     "execution_count": 5,
     "metadata": {},
     "output_type": "execute_result"
    }
   ],
   "source": [
    "import pandas as pd\n",
    "\n",
    "data = pd.read_csv('e:/Github-Repositories/datasets/truedata/electricity/electricity.txt',header=None,sep=',').values[800:900]\n",
    "\n",
    "data.shape\n",
    "\n"
   ]
  },
  {
   "cell_type": "code",
   "execution_count": null,
   "metadata": {},
   "outputs": [],
   "source": [
    "import os\n",
    "import numpy as np\n",
    "import torch\n",
    "\n",
    "\n",
    "from lightning.pytorch.trainer import Trainer\n",
    "from lightning.pytorch.callbacks import EarlyStopping, ModelCheckpoint\n",
    "from lightning.pytorch.loggers import TensorBoardLogger\n",
    "\n",
    "from dsanet_model import DSANet\n",
    "from dsanet_model import add_model_config\n",
    "from data import MTSFDataset\n",
    "from torch.utils.data import DataLoader\n",
    "from lightning.pytorch.callbacks.early_stopping import EarlyStopping\n",
    "import warnings\n",
    "\n",
    "warnings.filterwarnings(\"ignore\")\n",
    "\n",
    "SEED = 7\n",
    "torch.manual_seed(SEED)\n",
    "torch.cuda.manual_seed_all(SEED)\n",
    "np.random.seed(SEED)\n",
    "\n",
    "root_dir = \"/root/myDL/DSANet\"\n",
    "log_dir = os.path.join(root_dir, \"dsanet_logs\")\n",
    "\n",
    "config = add_model_config(root_dir)\n",
    "\n",
    "model = DSANet(config)\n",
    "# print(model)\n",
    "tb_logger = TensorBoardLogger(name=\"electricity\", save_dir=config[\"log_dir\"], version=2)\n",
    "early_stop_callback = EarlyStopping(monitor=\"val_loss\", min_delta=0.001, patience=3, verbose=False, mode=\"max\")\n",
    "\n",
    "\n",
    "trainer = Trainer(\n",
    "    devices=1,\n",
    "    logger=tb_logger,\n",
    "    max_epochs=20,\n",
    "    callbacks=[early_stop_callback]\n",
    ")\n",
    "\n",
    "trainer.fit(model)\n"
   ]
  },
  {
   "cell_type": "code",
   "execution_count": null,
   "metadata": {},
   "outputs": [],
   "source": [
    "trainer.test()"
   ]
  },
  {
   "cell_type": "code",
   "execution_count": null,
   "metadata": {},
   "outputs": [],
   "source": [
    "trainer.early_stopping_callback"
   ]
  },
  {
   "cell_type": "code",
   "execution_count": null,
   "metadata": {},
   "outputs": [],
   "source": [
    "# 加载继续训练\n",
    "import lightning.pytorch as pl\n",
    "\n",
    "csv_logger = pl.loggers.CSVLogger(save_dir=\"lightning_logs/csi\", name=\"version_0\")\n",
    "trainer = pl.Trainer(\n",
    "    logger = csv_logger,\n",
    "    callbacks=[pl.callbacks.ModelCheckpoint(every_n_train_steps=60, save_top_k=-1)],\n",
    ")\n",
    "\n",
    "model = DSANet(config)\n",
    "ckp1 = \"lightning_logs/csi/version_3/checkpoints/epoch=19-step=4280.ckpt\"\n",
    "ckp2 = \"lightning_logs/csi/version_4/checkpoints/epoch=39-step=8560.ckpt\"\n",
    "ckp3 = 'lightning_logs/csi/version_0/checkpoints/epoch=4-step=1070.ckpt'\n",
    "trainer.test(\n",
    "    model=model,\n",
    "    ckpt_path=ckp3,\n",
    ")"
   ]
  },
  {
   "cell_type": "code",
   "execution_count": null,
   "metadata": {},
   "outputs": [],
   "source": []
  },
  {
   "cell_type": "code",
   "execution_count": null,
   "metadata": {},
   "outputs": [],
   "source": [
    "PATH = \"lightning_logs/csi/version_4/checkpoints/epoch=39-step=8560.ckpt\"\n",
    "model = DSANet.load_from_checkpoint(PATH, config=config)\n",
    "\n",
    "print(model.config[\"learning_rate\"])\n",
    "model.eval()\n",
    "device = \"cuda\" if torch.cuda.is_available() else \"cpu\"\n",
    "x = torch.randn(1,64, 32).to(device)\n",
    "with torch.no_grad():\n",
    "    y_hat = model(x)\n",
    "print(y_hat)"
   ]
  },
  {
   "cell_type": "code",
   "execution_count": null,
   "metadata": {},
   "outputs": [],
   "source": [
    "x.shape"
   ]
  },
  {
   "cell_type": "code",
   "execution_count": null,
   "metadata": {},
   "outputs": [],
   "source": [
    "trainer = pl.Trainer(\n",
    "    callbacks=[pl.callbacks.ModelCheckpoint(every_n_train_steps=60, save_top_k=-1)],\n",
    ")\n",
    "\n",
    "model = DSANet(config)\n"
   ]
  },
  {
   "cell_type": "code",
   "execution_count": null,
   "metadata": {},
   "outputs": [],
   "source": []
  },
  {
   "cell_type": "code",
   "execution_count": null,
   "metadata": {},
   "outputs": [],
   "source": [
    "import tensorboardX"
   ]
  }
 ],
 "metadata": {
  "kernelspec": {
   "display_name": "py311",
   "language": "python",
   "name": "python3"
  },
  "language_info": {
   "codemirror_mode": {
    "name": "ipython",
    "version": 3
   },
   "file_extension": ".py",
   "mimetype": "text/x-python",
   "name": "python",
   "nbconvert_exporter": "python",
   "pygments_lexer": "ipython3",
   "version": "3.11.9"
  }
 },
 "nbformat": 4,
 "nbformat_minor": 2
}
